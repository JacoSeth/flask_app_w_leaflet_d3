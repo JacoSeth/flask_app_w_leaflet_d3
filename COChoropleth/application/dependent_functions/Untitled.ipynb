{
 "cells": [
  {
   "cell_type": "code",
   "execution_count": 3,
   "metadata": {},
   "outputs": [
    {
     "name": "stdout",
     "output_type": "stream",
     "text": [
      "hd1_total_accounts = hd_total_accounts(1),\n",
      "hd2_total_accounts = hd_total_accounts(2),\n",
      "hd3_total_accounts = hd_total_accounts(3),\n",
      "hd4_total_accounts = hd_total_accounts(4),\n",
      "hd5_total_accounts = hd_total_accounts(5),\n",
      "hd6_total_accounts = hd_total_accounts(6),\n",
      "hd7_total_accounts = hd_total_accounts(7),\n",
      "hd8_total_accounts = hd_total_accounts(8),\n",
      "hd9_total_accounts = hd_total_accounts(9),\n",
      "hd10_total_accounts = hd_total_accounts(10),\n",
      "hd11_total_accounts = hd_total_accounts(11),\n",
      "hd12_total_accounts = hd_total_accounts(12),\n",
      "hd13_total_accounts = hd_total_accounts(13),\n",
      "hd14_total_accounts = hd_total_accounts(14),\n",
      "hd15_total_accounts = hd_total_accounts(15),\n",
      "hd16_total_accounts = hd_total_accounts(16),\n",
      "hd17_total_accounts = hd_total_accounts(17),\n",
      "hd18_total_accounts = hd_total_accounts(18),\n",
      "hd19_total_accounts = hd_total_accounts(19),\n",
      "hd20_total_accounts = hd_total_accounts(20),\n",
      "hd21_total_accounts = hd_total_accounts(21),\n",
      "hd22_total_accounts = hd_total_accounts(22),\n",
      "hd23_total_accounts = hd_total_accounts(23),\n",
      "hd24_total_accounts = hd_total_accounts(24),\n",
      "hd25_total_accounts = hd_total_accounts(25),\n",
      "hd26_total_accounts = hd_total_accounts(26),\n",
      "hd27_total_accounts = hd_total_accounts(27),\n",
      "hd28_total_accounts = hd_total_accounts(28),\n",
      "hd29_total_accounts = hd_total_accounts(29),\n",
      "hd30_total_accounts = hd_total_accounts(30),\n",
      "hd31_total_accounts = hd_total_accounts(31),\n",
      "hd32_total_accounts = hd_total_accounts(32),\n",
      "hd33_total_accounts = hd_total_accounts(33),\n",
      "hd34_total_accounts = hd_total_accounts(34),\n",
      "hd35_total_accounts = hd_total_accounts(35),\n",
      "hd36_total_accounts = hd_total_accounts(36),\n",
      "hd37_total_accounts = hd_total_accounts(37),\n",
      "hd38_total_accounts = hd_total_accounts(38),\n",
      "hd39_total_accounts = hd_total_accounts(39),\n",
      "hd40_total_accounts = hd_total_accounts(40),\n",
      "hd41_total_accounts = hd_total_accounts(41),\n",
      "hd42_total_accounts = hd_total_accounts(42),\n",
      "hd43_total_accounts = hd_total_accounts(43),\n",
      "hd44_total_accounts = hd_total_accounts(44),\n",
      "hd45_total_accounts = hd_total_accounts(45),\n",
      "hd46_total_accounts = hd_total_accounts(46),\n",
      "hd47_total_accounts = hd_total_accounts(47),\n",
      "hd48_total_accounts = hd_total_accounts(48),\n",
      "hd49_total_accounts = hd_total_accounts(49),\n",
      "hd50_total_accounts = hd_total_accounts(50),\n",
      "hd51_total_accounts = hd_total_accounts(51),\n",
      "hd52_total_accounts = hd_total_accounts(52),\n",
      "hd53_total_accounts = hd_total_accounts(53),\n",
      "hd54_total_accounts = hd_total_accounts(54),\n",
      "hd55_total_accounts = hd_total_accounts(55),\n",
      "hd56_total_accounts = hd_total_accounts(56),\n",
      "hd57_total_accounts = hd_total_accounts(57),\n",
      "hd58_total_accounts = hd_total_accounts(58),\n",
      "hd59_total_accounts = hd_total_accounts(59),\n",
      "hd60_total_accounts = hd_total_accounts(60),\n",
      "hd61_total_accounts = hd_total_accounts(61),\n",
      "hd62_total_accounts = hd_total_accounts(62),\n",
      "hd63_total_accounts = hd_total_accounts(63),\n",
      "hd64_total_accounts = hd_total_accounts(64),\n",
      "hd65_total_accounts = hd_total_accounts(65),\n"
     ]
    }
   ],
   "source": [
    "x=1\n",
    "for x in range(1,66):\n",
    "    print(f\"hd{x}_total_accounts = hd_total_accounts({x}),\")"
   ]
  },
  {
   "cell_type": "code",
   "execution_count": 73,
   "metadata": {},
   "outputs": [
    {
     "data": {
      "text/html": [
       "<div>\n",
       "<style scoped>\n",
       "    .dataframe tbody tr th:only-of-type {\n",
       "        vertical-align: middle;\n",
       "    }\n",
       "\n",
       "    .dataframe tbody tr th {\n",
       "        vertical-align: top;\n",
       "    }\n",
       "\n",
       "    .dataframe thead th {\n",
       "        text-align: right;\n",
       "    }\n",
       "</style>\n",
       "<table border=\"1\" class=\"dataframe\">\n",
       "  <thead>\n",
       "    <tr style=\"text-align: right;\">\n",
       "      <th></th>\n",
       "      <th>Unnamed: 0</th>\n",
       "      <th>userId</th>\n",
       "      <th>firstName</th>\n",
       "      <th>lastName</th>\n",
       "      <th>emailAddress</th>\n",
       "      <th>createDate</th>\n",
       "      <th>dateOfBirth</th>\n",
       "      <th>city</th>\n",
       "      <th>state</th>\n",
       "      <th>county</th>\n",
       "      <th>...</th>\n",
       "      <th>Street</th>\n",
       "      <th>City</th>\n",
       "      <th>State</th>\n",
       "      <th>County</th>\n",
       "      <th>Zip</th>\n",
       "      <th>Country</th>\n",
       "      <th>Source</th>\n",
       "      <th>Congressional District</th>\n",
       "      <th>State Legislative District House</th>\n",
       "      <th>State Legislative District Senate</th>\n",
       "    </tr>\n",
       "  </thead>\n",
       "  <tbody>\n",
       "    <tr>\n",
       "      <th>0</th>\n",
       "      <td>0</td>\n",
       "      <td>2Q9ckMAJjL7sqcamx</td>\n",
       "      <td>John</td>\n",
       "      <td>Hancock</td>\n",
       "      <td>admin@caucusroom.com</td>\n",
       "      <td>2019-06-29 04:27</td>\n",
       "      <td>07/04/1976</td>\n",
       "      <td>Lafayette</td>\n",
       "      <td>CO</td>\n",
       "      <td>BOULDER</td>\n",
       "      <td>...</td>\n",
       "      <td>Diamond Cir</td>\n",
       "      <td>Lafayette</td>\n",
       "      <td>CO</td>\n",
       "      <td>Boulder County</td>\n",
       "      <td>80026.0</td>\n",
       "      <td>US</td>\n",
       "      <td>Boulder</td>\n",
       "      <td>CO2</td>\n",
       "      <td>State House District 12</td>\n",
       "      <td>State Senate District 17</td>\n",
       "    </tr>\n",
       "    <tr>\n",
       "      <th>1</th>\n",
       "      <td>1</td>\n",
       "      <td>8LyygB2aaH6kZnaJq</td>\n",
       "      <td>Allen</td>\n",
       "      <td>Fuller</td>\n",
       "      <td>allen@caucusroom.com</td>\n",
       "      <td>2019-07-03 23:41</td>\n",
       "      <td>04/22/1977</td>\n",
       "      <td>Lafayette</td>\n",
       "      <td>CO</td>\n",
       "      <td>BOULDER</td>\n",
       "      <td>...</td>\n",
       "      <td>Brainard Cir</td>\n",
       "      <td>Lafayette</td>\n",
       "      <td>CO</td>\n",
       "      <td>Boulder County</td>\n",
       "      <td>80026.0</td>\n",
       "      <td>US</td>\n",
       "      <td>Boulder</td>\n",
       "      <td>CO2</td>\n",
       "      <td>State House District 12</td>\n",
       "      <td>State Senate District 17</td>\n",
       "    </tr>\n",
       "    <tr>\n",
       "      <th>2</th>\n",
       "      <td>2</td>\n",
       "      <td>ZCMaQmQF4x5o6NTQy</td>\n",
       "      <td>Megan</td>\n",
       "      <td>Hanson</td>\n",
       "      <td>megan@caucusroom.com</td>\n",
       "      <td>2019-07-02 23:45</td>\n",
       "      <td>05/15/1989</td>\n",
       "      <td>Golden</td>\n",
       "      <td>CO</td>\n",
       "      <td>JEFFERSON</td>\n",
       "      <td>...</td>\n",
       "      <td>Denver West Dr</td>\n",
       "      <td>Golden</td>\n",
       "      <td>CO</td>\n",
       "      <td>Jefferson County</td>\n",
       "      <td>80401.0</td>\n",
       "      <td>US</td>\n",
       "      <td>Jefferson County</td>\n",
       "      <td>CO7</td>\n",
       "      <td>State House District 24</td>\n",
       "      <td>State Senate District 20</td>\n",
       "    </tr>\n",
       "    <tr>\n",
       "      <th>3</th>\n",
       "      <td>3</td>\n",
       "      <td>c2FTzFZxpTbaa2nx8</td>\n",
       "      <td>Matt</td>\n",
       "      <td>Knoedler</td>\n",
       "      <td>matt@caucusroom.com</td>\n",
       "      <td>2019-07-03 14:46</td>\n",
       "      <td>02/12/1975</td>\n",
       "      <td>Golden</td>\n",
       "      <td>CO</td>\n",
       "      <td>JEFFERSON</td>\n",
       "      <td>...</td>\n",
       "      <td>Dogwood Dr</td>\n",
       "      <td>Golden</td>\n",
       "      <td>CO</td>\n",
       "      <td>Jefferson County</td>\n",
       "      <td>80401.0</td>\n",
       "      <td>US</td>\n",
       "      <td>Jefferson County</td>\n",
       "      <td>CO2</td>\n",
       "      <td>State House District 25</td>\n",
       "      <td>State Senate District 16</td>\n",
       "    </tr>\n",
       "    <tr>\n",
       "      <th>4</th>\n",
       "      <td>4</td>\n",
       "      <td>XJDsAqrjgos7wdwS8</td>\n",
       "      <td>Kelly</td>\n",
       "      <td>Maher</td>\n",
       "      <td>okmaher@gmail.com</td>\n",
       "      <td>2019-07-08 20:10</td>\n",
       "      <td>03/03/1983</td>\n",
       "      <td>Brighton</td>\n",
       "      <td>CO</td>\n",
       "      <td>ADAMS</td>\n",
       "      <td>...</td>\n",
       "      <td>Downing St</td>\n",
       "      <td>Thornton</td>\n",
       "      <td>CO</td>\n",
       "      <td>Adams County</td>\n",
       "      <td>80602.0</td>\n",
       "      <td>US</td>\n",
       "      <td>Adams</td>\n",
       "      <td>CO6</td>\n",
       "      <td>State House District 34</td>\n",
       "      <td>State Senate District 24</td>\n",
       "    </tr>\n",
       "  </tbody>\n",
       "</table>\n",
       "<p>5 rows × 40 columns</p>\n",
       "</div>"
      ],
      "text/plain": [
       "   Unnamed: 0             userId firstName  lastName          emailAddress  \\\n",
       "0           0  2Q9ckMAJjL7sqcamx      John   Hancock  admin@caucusroom.com   \n",
       "1           1  8LyygB2aaH6kZnaJq     Allen    Fuller  allen@caucusroom.com   \n",
       "2           2  ZCMaQmQF4x5o6NTQy     Megan    Hanson  megan@caucusroom.com   \n",
       "3           3  c2FTzFZxpTbaa2nx8      Matt  Knoedler   matt@caucusroom.com   \n",
       "4           4  XJDsAqrjgos7wdwS8     Kelly     Maher     okmaher@gmail.com   \n",
       "\n",
       "         createDate dateOfBirth       city state     county  ...  \\\n",
       "0  2019-06-29 04:27  07/04/1976  Lafayette    CO    BOULDER  ...   \n",
       "1  2019-07-03 23:41  04/22/1977  Lafayette    CO    BOULDER  ...   \n",
       "2  2019-07-02 23:45  05/15/1989     Golden    CO  JEFFERSON  ...   \n",
       "3  2019-07-03 14:46  02/12/1975     Golden    CO  JEFFERSON  ...   \n",
       "4  2019-07-08 20:10  03/03/1983   Brighton    CO      ADAMS  ...   \n",
       "\n",
       "           Street       City  State            County      Zip  Country  \\\n",
       "0     Diamond Cir  Lafayette     CO    Boulder County  80026.0       US   \n",
       "1    Brainard Cir  Lafayette     CO    Boulder County  80026.0       US   \n",
       "2  Denver West Dr     Golden     CO  Jefferson County  80401.0       US   \n",
       "3      Dogwood Dr     Golden     CO  Jefferson County  80401.0       US   \n",
       "4      Downing St   Thornton     CO      Adams County  80602.0       US   \n",
       "\n",
       "             Source  Congressional District State Legislative District House  \\\n",
       "0           Boulder                     CO2          State House District 12   \n",
       "1           Boulder                     CO2          State House District 12   \n",
       "2  Jefferson County                     CO7          State House District 24   \n",
       "3  Jefferson County                     CO2          State House District 25   \n",
       "4             Adams                     CO6          State House District 34   \n",
       "\n",
       "  State Legislative District Senate  \n",
       "0          State Senate District 17  \n",
       "1          State Senate District 17  \n",
       "2          State Senate District 20  \n",
       "3          State Senate District 16  \n",
       "4          State Senate District 24  \n",
       "\n",
       "[5 rows x 40 columns]"
      ]
     },
     "execution_count": 73,
     "metadata": {},
     "output_type": "execute_result"
    }
   ],
   "source": [
    "import pandas as pd\n",
    "data = pd.read_csv('/Users/sethjacobson/Desktop/COLOGOPCL/geocod.io exports/1.16.2020_geocodio_export.csv')\n",
    "df = pd.DataFrame(data)\n",
    "df.head()"
   ]
  },
  {
   "cell_type": "code",
   "execution_count": 74,
   "metadata": {},
   "outputs": [],
   "source": [
    "df_co = df['state']=='CO'\n",
    "df_co_counties = df[df_co]\n",
    "df_county = df_co_counties['county'].unique()\n",
    "df_county_list = list(df_county)"
   ]
  },
  {
   "cell_type": "code",
   "execution_count": 75,
   "metadata": {},
   "outputs": [
    {
     "name": "stdout",
     "output_type": "stream",
     "text": [
      "58\n",
      "57\n"
     ]
    }
   ],
   "source": [
    "list(df_county_list)\n",
    "print(len(df_county_list))\n",
    "df_county_list.pop(27)\n",
    "print(len(df_county_list))"
   ]
  },
  {
   "cell_type": "code",
   "execution_count": 76,
   "metadata": {},
   "outputs": [
    {
     "data": {
      "text/plain": [
       "['BOULDER',\n",
       " 'JEFFERSON',\n",
       " 'ADAMS',\n",
       " 'DENVER',\n",
       " 'ARAPAHOE',\n",
       " 'DOUGLAS',\n",
       " 'PUEBLO',\n",
       " 'EL PASO',\n",
       " 'WELD',\n",
       " 'KIT CARSON',\n",
       " 'ELBERT',\n",
       " 'BROOMFIELD',\n",
       " 'ROUTT',\n",
       " 'YUMA',\n",
       " 'MESA',\n",
       " 'MONTEZUMA',\n",
       " 'LARIMER',\n",
       " 'CLEAR CREEK',\n",
       " 'LA PLATA',\n",
       " 'TELLER',\n",
       " 'FREMONT',\n",
       " 'SUMMIT',\n",
       " 'RIO BLANCO',\n",
       " 'CUSTER',\n",
       " 'HUERFANO',\n",
       " 'DELTA',\n",
       " 'PARK',\n",
       " 'EAGLE',\n",
       " 'LOGAN',\n",
       " 'GILPIN',\n",
       " 'Denver',\n",
       " 'GARFIELD',\n",
       " 'BENT',\n",
       " 'arapahoe',\n",
       " 'MORGAN',\n",
       " 'LAS ANIMAS',\n",
       " 'OTERO',\n",
       " 'GUNNISON',\n",
       " 'PITKIN',\n",
       " 'MONTROSE',\n",
       " 'GRAND',\n",
       " 'SAGUACHE',\n",
       " 'CHAFFEE',\n",
       " 'douglas',\n",
       " 'JACKSON',\n",
       " 'LINCOLN',\n",
       " 'CONEJOS',\n",
       " 'WASHINGTON',\n",
       " 'SAN MIGUEL',\n",
       " 'SEDGWICK',\n",
       " 'MINERAL',\n",
       " 'MOFFAT',\n",
       " 'Adams',\n",
       " 'Larimer',\n",
       " 'Alamosa',\n",
       " 'Elbert',\n",
       " 'LAKE']"
      ]
     },
     "execution_count": 76,
     "metadata": {},
     "output_type": "execute_result"
    }
   ],
   "source": [
    "df_county_list"
   ]
  },
  {
   "cell_type": "code",
   "execution_count": 68,
   "metadata": {},
   "outputs": [
    {
     "data": {
      "text/plain": [
       "'douglas'"
      ]
     },
     "execution_count": 68,
     "metadata": {},
     "output_type": "execute_result"
    }
   ],
   "source": [
    "# df_county_list.sort()\n",
    "# df_county_list.pop(2)\n",
    "# df_county_list.pop(13)\n",
    "# df_county_list.pop(16)\n",
    "# df_county_list.pop(52)\n",
    "# df_county_list.pop(52)\n"
   ]
  },
  {
   "cell_type": "code",
   "execution_count": 72,
   "metadata": {},
   "outputs": [
    {
     "data": {
      "text/plain": [
       "'ADAMS'"
      ]
     },
     "execution_count": 72,
     "metadata": {},
     "output_type": "execute_result"
    }
   ],
   "source": [
    "df_county_list.pop(2)"
   ]
  },
  {
   "cell_type": "code",
   "execution_count": null,
   "metadata": {},
   "outputs": [],
   "source": [
    "df_county_list.pop(13)"
   ]
  },
  {
   "cell_type": "code",
   "execution_count": null,
   "metadata": {},
   "outputs": [],
   "source": [
    "df_county_list.pop(16)"
   ]
  },
  {
   "cell_type": "code",
   "execution_count": null,
   "metadata": {},
   "outputs": [],
   "source": [
    "df_county_list.pop(52)"
   ]
  },
  {
   "cell_type": "code",
   "execution_count": null,
   "metadata": {},
   "outputs": [],
   "source": [
    "df_county_list.pop(52)"
   ]
  },
  {
   "cell_type": "code",
   "execution_count": null,
   "metadata": {},
   "outputs": [],
   "source": []
  },
  {
   "cell_type": "code",
   "execution_count": 58,
   "metadata": {},
   "outputs": [
    {
     "data": {
      "text/plain": [
       "['ADAMS',\n",
       " 'ARAPAHOE',\n",
       " 'Adams',\n",
       " 'BENT',\n",
       " 'BOULDER',\n",
       " 'BROOMFIELD',\n",
       " 'CHAFFEE',\n",
       " 'CLEAR CREEK',\n",
       " 'CONEJOS',\n",
       " 'CUSTER',\n",
       " 'DELTA',\n",
       " 'DENVER',\n",
       " 'DOUGLAS',\n",
       " 'Denver',\n",
       " 'EL PASO',\n",
       " 'ELBERT',\n",
       " 'Elbert',\n",
       " 'GARFIELD',\n",
       " 'GILPIN',\n",
       " 'GRAND',\n",
       " 'GUNNISON',\n",
       " 'HUERFANO',\n",
       " 'JACKSON',\n",
       " 'JEFFERSON',\n",
       " 'KIT CARSON',\n",
       " 'LA PLATA',\n",
       " 'LAKE',\n",
       " 'LARIMER',\n",
       " 'LAS ANIMAS',\n",
       " 'LINCOLN',\n",
       " 'LOGAN',\n",
       " 'Larimer',\n",
       " 'MESA',\n",
       " 'MINERAL',\n",
       " 'MOFFAT',\n",
       " 'MONTEZUMA',\n",
       " 'MONTROSE',\n",
       " 'MORGAN',\n",
       " 'OTERO',\n",
       " 'PARK',\n",
       " 'PITKIN',\n",
       " 'PUEBLO',\n",
       " 'RIO BLANCO',\n",
       " 'ROUTT',\n",
       " 'SAGUACHE',\n",
       " 'SAN MIGUEL',\n",
       " 'SEDGWICK',\n",
       " 'SUMMIT',\n",
       " 'TELLER',\n",
       " 'WASHINGTON',\n",
       " 'WELD',\n",
       " 'YUMA']"
      ]
     },
     "execution_count": 58,
     "metadata": {},
     "output_type": "execute_result"
    }
   ],
   "source": [
    "df_county_list.pop()"
   ]
  },
  {
   "cell_type": "code",
   "execution_count": 50,
   "metadata": {},
   "outputs": [
    {
     "ename": "AttributeError",
     "evalue": "'list' object has no attribute 'drop'",
     "output_type": "error",
     "traceback": [
      "\u001b[0;31m---------------------------------------------------------------------------\u001b[0m",
      "\u001b[0;31mAttributeError\u001b[0m                            Traceback (most recent call last)",
      "\u001b[0;32m<ipython-input-50-b75d4c522400>\u001b[0m in \u001b[0;36m<module>\u001b[0;34m\u001b[0m\n\u001b[0;32m----> 1\u001b[0;31m \u001b[0mdf_county_list\u001b[0m\u001b[0;34m.\u001b[0m\u001b[0mdrop\u001b[0m\u001b[0;34m(\u001b[0m\u001b[0;34m[\u001b[0m\u001b[0;34m'nan'\u001b[0m\u001b[0;34m,\u001b[0m \u001b[0;34m'douglas'\u001b[0m\u001b[0;34m,\u001b[0m \u001b[0;34m'arapahoe'\u001b[0m\u001b[0;34m]\u001b[0m\u001b[0;34m)\u001b[0m\u001b[0;34m\u001b[0m\u001b[0;34m\u001b[0m\u001b[0m\n\u001b[0m",
      "\u001b[0;31mAttributeError\u001b[0m: 'list' object has no attribute 'drop'"
     ]
    }
   ],
   "source": [
    "df_county_list.drop(['nan', 'douglas', 'arapahoe'])"
   ]
  },
  {
   "cell_type": "code",
   "execution_count": 42,
   "metadata": {},
   "outputs": [],
   "source": [
    "df_county_list.sort()"
   ]
  },
  {
   "cell_type": "code",
   "execution_count": 43,
   "metadata": {},
   "outputs": [
    {
     "name": "stdout",
     "output_type": "stream",
     "text": [
      "ADAMS_total_accounts = county_total_accounts('ADAMS'),\n",
      "ARAPAHOE_total_accounts = county_total_accounts('ARAPAHOE'),\n",
      "Adams_total_accounts = county_total_accounts('Adams'),\n",
      "Alamosa_total_accounts = county_total_accounts('Alamosa'),\n",
      "BENT_total_accounts = county_total_accounts('BENT'),\n",
      "BOULDER_total_accounts = county_total_accounts('BOULDER'),\n",
      "BROOMFIELD_total_accounts = county_total_accounts('BROOMFIELD'),\n",
      "CHAFFEE_total_accounts = county_total_accounts('CHAFFEE'),\n",
      "CLEAR CREEK_total_accounts = county_total_accounts('CLEAR CREEK'),\n",
      "CONEJOS_total_accounts = county_total_accounts('CONEJOS'),\n",
      "CUSTER_total_accounts = county_total_accounts('CUSTER'),\n",
      "DELTA_total_accounts = county_total_accounts('DELTA'),\n",
      "DENVER_total_accounts = county_total_accounts('DENVER'),\n",
      "DOUGLAS_total_accounts = county_total_accounts('DOUGLAS'),\n",
      "EAGLE_total_accounts = county_total_accounts('EAGLE'),\n",
      "EL PASO_total_accounts = county_total_accounts('EL PASO'),\n",
      "ELBERT_total_accounts = county_total_accounts('ELBERT'),\n",
      "Elbert_total_accounts = county_total_accounts('Elbert'),\n",
      "FREMONT_total_accounts = county_total_accounts('FREMONT'),\n",
      "GARFIELD_total_accounts = county_total_accounts('GARFIELD'),\n",
      "GILPIN_total_accounts = county_total_accounts('GILPIN'),\n",
      "GRAND_total_accounts = county_total_accounts('GRAND'),\n",
      "GUNNISON_total_accounts = county_total_accounts('GUNNISON'),\n",
      "HUERFANO_total_accounts = county_total_accounts('HUERFANO'),\n",
      "JACKSON_total_accounts = county_total_accounts('JACKSON'),\n",
      "JEFFERSON_total_accounts = county_total_accounts('JEFFERSON'),\n",
      "KIT CARSON_total_accounts = county_total_accounts('KIT CARSON'),\n",
      "LA PLATA_total_accounts = county_total_accounts('LA PLATA'),\n",
      "LAKE_total_accounts = county_total_accounts('LAKE'),\n",
      "LARIMER_total_accounts = county_total_accounts('LARIMER'),\n",
      "LAS ANIMAS_total_accounts = county_total_accounts('LAS ANIMAS'),\n",
      "LINCOLN_total_accounts = county_total_accounts('LINCOLN'),\n",
      "LOGAN_total_accounts = county_total_accounts('LOGAN'),\n",
      "Larimer_total_accounts = county_total_accounts('Larimer'),\n",
      "MESA_total_accounts = county_total_accounts('MESA'),\n",
      "MINERAL_total_accounts = county_total_accounts('MINERAL'),\n",
      "MOFFAT_total_accounts = county_total_accounts('MOFFAT'),\n",
      "MONTEZUMA_total_accounts = county_total_accounts('MONTEZUMA'),\n",
      "MONTROSE_total_accounts = county_total_accounts('MONTROSE'),\n",
      "MORGAN_total_accounts = county_total_accounts('MORGAN'),\n",
      "OTERO_total_accounts = county_total_accounts('OTERO'),\n",
      "PARK_total_accounts = county_total_accounts('PARK'),\n",
      "PITKIN_total_accounts = county_total_accounts('PITKIN'),\n",
      "PUEBLO_total_accounts = county_total_accounts('PUEBLO'),\n",
      "RIO BLANCO_total_accounts = county_total_accounts('RIO BLANCO'),\n",
      "ROUTT_total_accounts = county_total_accounts('ROUTT'),\n",
      "SAGUACHE_total_accounts = county_total_accounts('SAGUACHE'),\n",
      "SAN MIGUEL_total_accounts = county_total_accounts('SAN MIGUEL'),\n",
      "SEDGWICK_total_accounts = county_total_accounts('SEDGWICK'),\n",
      "SUMMIT_total_accounts = county_total_accounts('SUMMIT'),\n",
      "TELLER_total_accounts = county_total_accounts('TELLER'),\n",
      "WASHINGTON_total_accounts = county_total_accounts('WASHINGTON'),\n",
      "WELD_total_accounts = county_total_accounts('WELD'),\n",
      "YUMA_total_accounts = county_total_accounts('YUMA'),\n"
     ]
    }
   ],
   "source": [
    "i=0\n",
    "for x in df_county_list:\n",
    "    x = df_county_list[i]\n",
    "    print(f\"{x}_total_accounts = county_total_accounts('{x}'),\")\n",
    "    i+=1"
   ]
  },
  {
   "cell_type": "code",
   "execution_count": null,
   "metadata": {},
   "outputs": [],
   "source": []
  }
 ],
 "metadata": {
  "kernelspec": {
   "display_name": "Python 3",
   "language": "python",
   "name": "python3"
  },
  "language_info": {
   "codemirror_mode": {
    "name": "ipython",
    "version": 3
   },
   "file_extension": ".py",
   "mimetype": "text/x-python",
   "name": "python",
   "nbconvert_exporter": "python",
   "pygments_lexer": "ipython3",
   "version": "3.7.3"
  }
 },
 "nbformat": 4,
 "nbformat_minor": 2
}
